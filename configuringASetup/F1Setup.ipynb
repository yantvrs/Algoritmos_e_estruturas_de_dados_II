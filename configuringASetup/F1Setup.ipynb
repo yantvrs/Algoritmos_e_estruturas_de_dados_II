{
  "nbformat": 4,
  "nbformat_minor": 0,
  "metadata": {
    "colab": {
      "provenance": [],
      "include_colab_link": true
    },
    "kernelspec": {
      "name": "python3",
      "display_name": "Python 3"
    },
    "language_info": {
      "name": "python"
    }
  },
  "cells": [
    {
      "cell_type": "markdown",
      "metadata": {
        "id": "view-in-github",
        "colab_type": "text"
      },
      "source": [
        "<a href=\"https://colab.research.google.com/github/yantvrs/Data_structure_2/blob/main/configuringASetup/F1Setup.ipynb\" target=\"_parent\"><img src=\"https://colab.research.google.com/assets/colab-badge.svg\" alt=\"Open In Colab\"/></a>"
      ]
    },
    {
      "cell_type": "markdown",
      "source": [
        "Histogram for the \"Team Score\" metric with the 262,144 possible vehicle configuration combinations.\n"
      ],
      "metadata": {
        "id": "c_okDLDqY6r_"
      }
    },
    {
      "cell_type": "code",
      "execution_count": null,
      "metadata": {
        "id": "lPeQlmDCYGBT"
      },
      "outputs": [],
      "source": [
        "class CarSetup:\n",
        "  def __init__(self, breaks, gearBox, rearWing, frontWing, suspension, engine):\n",
        "    self.breaks = breaks\n",
        "    self.gearBox = gearBox\n",
        "    self.rearWing = rearWing\n",
        "    self.frontWing = frontWing\n",
        "    self.suspension = suspension\n",
        "    self.engine = engine\n",
        "\n",
        "  def add_contributions(self,current_contributions,current_option,current_option_name,options_dict):\n",
        "      current_option_values=options_dict[current_option]\n",
        "      current_contributions[\"Speed\"] += current_option_values[0]\n",
        "      current_contributions[\"Cornering\"] += current_option_values[1]\n",
        "      current_contributions[\"Power Unit\"] += current_option_values[2]\n",
        "      current_contributions[\"Reliability\"] += current_option_values[3]\n",
        "      current_contributions[\"Average Pit Stop Time\"] += current_option_values[4]\n",
        "      return current_contributions\n",
        "\n",
        "  def calculate_contributions(self):\n",
        "    contributions = {\n",
        "        \"Speed\": 0,\n",
        "        \"Cornering\": 0,\n",
        "        \"Power Unit\": 0,\n",
        "        \"Reliability\": 0,\n",
        "        \"Avarage Pit Stop Time\": 0\n",
        "    }\n",
        "\n",
        "    breaks_contributions = {\n",
        "        \"Wildcore\": (36, 23, 33, 22, 0.59),\n",
        "        \"Suspense\": (20, 32, 23, 21, 0.37),\n",
        "        \"The Warden\": (26, 28, 27, 25, 0.43),\n",
        "        \"Onyx\": (26, 23, 25, 50, 0.49),\n",
        "        \"Axiom\": (14, 34, 18, 15, 0.67),\n",
        "        \"Crisis SL\": (27, 16, 18, 19, 0.51),\n",
        "        \"Essence\": (14, 13, 12, 25, 0.76),\n",
        "        \"Starter\": (1, 1, 1, 1, 1)\n",
        "    }\n",
        "\n",
        "    contributions = self.add_contributions(contributions,self.brakes, \"Breakes\", breaks_contributions)\n",
        "\n",
        "    gearBox_contributions = {\n",
        "        \"Voyage\": (23, 28, 22, 27, 0),\n",
        "        \"Vector\": (24, 38, 22, 36, 0.55 ),\n",
        "        \"Kick Shift\": (18, 19, 29, 19, 0.45),\n",
        "        \"Verdict\": (33, 18, 20, 30, 0.63),\n",
        "        \"Spectrum\": (20, 25, 21, 23, 0.53),\n",
        "        \"Swiftcharge\": (14, 23, 22, 16, 0.71),\n",
        "        \"Switch-R-OD\": (12, 13, 11, 14, 0.47),\n",
        "        \"Starter\": (1, 1, 1, 1, 1)\n",
        "    }\n",
        "\n",
        "    contributions = self.add_contributions(contributions,  self.gearBox, \"GearBox\", gearBox_contributions)\n",
        "\n",
        "    rearWing_contributions = {\n",
        "        \"Typhoon\": (50, 27, 26, 23, 0.53),\n",
        "        \"Transcendence\": (24, 22, 36, 37, 0.53),\n",
        "        \"Freeflare\": (21, 33, 20, 22, 0.37),\n",
        "        \"The Patron\": (23, 21, 19, 37, 0.61),\n",
        "        \"The Wasp\": (16, 24, 23, 14, 0.69),\n",
        "        \"The Matador\": (19, 16, 18, 17, 0.72),\n",
        "        \"Phantom-X\": (26, 15, 12, 11, 0.76),\n",
        "        \"Starter\": (1, 1, 1, 1, 1)\n",
        "    }\n",
        "\n",
        "    contributions = self.add_contributions(contributions, self.rearWing, \"RearWing\", rearWing_contributions)\n",
        "\n",
        "    frontWing_contributions = {\n",
        "        \"Virtue\": (23, 50, 27, 24, 0.49),\n",
        "        \"Thunderclap\": (35, 23, 21, 33, 0.55),\n",
        "        \"Trailblazer\": (21, 23, 42, 20, 0.57),\n",
        "        \"Zeno\": (25, 23, 22, 26, 0.53),\n",
        "        \"The Vagabond\": (31, 20, 23, 21, 0.35),\n",
        "        \"Feral Punch\": (13, 15, 22, 21, 0.73),\n",
        "        \"The Scout\": (13, 27, 15, 14, 0.73),\n",
        "        \"Starter\": (1, 1, 1, 1, 1)\n",
        "    }\n",
        "\n",
        "    contributions = self.add_contributions(contributions, self.front_wing, \"Front Wing\", frontWing_contributions)\n",
        "\n",
        "    suspension_contributions = {\n",
        "        \"Sigma\": (32, 28, 30, 29, 0.39),\n",
        "        \"Presence\": (23, 26, 24, 22, 0.2),\n",
        "        \"Horizon\": (22, 36, 24, 37, 0.53),\n",
        "        \"Radiance\": (25, 17, 26, 19, 0.65),\n",
        "        \"Icon V3\": (17, 13, 16, 23, 0.54),\n",
        "        \"Rodeo\": (23, 22, 15, 14, 0.69),\n",
        "        \"The Equator\": (20, 19, 18, 21, 0.61),\n",
        "        \"Stater\": (1, 1, 1, 1, 1)\n",
        "    }\n",
        "\n",
        "    contributions = self.add_contributions(contributions, self.suspension, \"Suspension\", suspension_contributions)\n",
        "\n",
        "    engine_contributions = {\n",
        "        \"Cloudroar\": (26, 24, 50, 27, 0.55),\n",
        "        \"Avalanche\": (34, 22, 25, 21, 0.35),\n",
        "        \"The Rover\": (27, 25, 28, 24, 0.53),\n",
        "        \"Twinburst\": (16, 29, 18, 17, 0.51),\n",
        "        \"Enigma\": (16, 13, 23, 25, 0.69),\n",
        "        \"Nova\": (31, 13, 15, 16, 0.71),\n",
        "        \"Brute Force\": (21, 19, 36, 18, 0.63),\n",
        "        \"Starter\": (1, 1, 1, 1, 1)\n",
        "    }\n",
        "\n",
        "    contributions = self.add_contributions(contributions, self.engine, \"Engine\", engine_contributions)\n",
        "\n",
        "    return contributions\n",
        "\n",
        "  breaks_options = [\"Wildcore\", \"Suspense\", \"The Warden\", \"Onyx\", \"Axiom\", \"Crisis SL\", \"Essence\", \"Starter\"]\n",
        "  grearBoxes_options = [\"Voyage\", \"Vector\", \"Kick Shift\", \"Verdict\", \"Spectrum\", \"Swiftcharge\", \"Switch-R-OD\", \"Starter\"]\n",
        "  rearWings_options = [\"Typhoon\", \"Transcendence\", \"Freeflare\", \"The Patron\", \"The Wasp\", \"The Matador\", \"Phantom-X\", \"Starter\"]\n",
        "  frontWings_options = [\"Virtue\", \"Thunderclap\", \"Trailblazer\", \"Zeno\", \"The Vagabond\", \"Feral Punch\", \"The Scout\", \"Starter\"]\n",
        "  suspensions_options = [\"Sigma\", \"Presence\", \"Horizon\", \"Radiance\", \"Icon V3\", \"Rodeo\", \"The Equator\", \"Stater\"]\n",
        "  engines_options = [\"Cloudroar\", \"Avalanche\", \"The Rover\", \"Twinburst\", \"Enigma\", \"Nova\", \"Brute Force\", \"Starter\"]\n",
        "\n"
      ]
    },
    {
      "cell_type": "markdown",
      "source": [
        "**Task 1**"
      ],
      "metadata": {
        "id": "Rfj6GhdIHidY"
      }
    },
    {
      "cell_type": "code",
      "source": [],
      "metadata": {
        "id": "D7bAjwbXL6nQ"
      },
      "execution_count": null,
      "outputs": []
    }
  ]
}