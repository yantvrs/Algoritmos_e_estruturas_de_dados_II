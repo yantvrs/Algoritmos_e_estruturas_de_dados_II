{
  "nbformat": 4,
  "nbformat_minor": 0,
  "metadata": {
    "colab": {
      "provenance": [],
      "include_colab_link": true
    },
    "kernelspec": {
      "name": "python3",
      "display_name": "Python 3"
    },
    "language_info": {
      "name": "python"
    }
  },
  "cells": [
    {
      "cell_type": "markdown",
      "metadata": {
        "id": "view-in-github",
        "colab_type": "text"
      },
      "source": [
        "<a href=\"https://colab.research.google.com/github/yantvrs/Data_structure_2/blob/main/configuringASetup/f1setup.ipynb\" target=\"_parent\"><img src=\"https://colab.research.google.com/assets/colab-badge.svg\" alt=\"Open In Colab\"/></a>"
      ]
    },
    {
      "cell_type": "markdown",
      "source": [
        "Histogram for the \"Team Score\" metric with the 262,144 possible vehicle configuration combinations.\n"
      ],
      "metadata": {
        "id": "c_okDLDqY6r_"
      }
    },
    {
      "cell_type": "code",
      "execution_count": null,
      "metadata": {
        "id": "lPeQlmDCYGBT",
        "colab": {
          "base_uri": "https://localhost:8080/",
          "height": 472
        },
        "outputId": "377058ab-ffff-4db9-818b-bae9dd6829ff"
      },
      "outputs": [
        {
          "output_type": "display_data",
          "data": {
            "text/plain": [
              "<Figure size 640x480 with 1 Axes>"
            ],
            "image/png": "[encoded data removed]"
          },
          "metadata": {}
        }
      ],
      "source": [
        "import matplotlib.pyplot as plt\n",
        "\n",
        "class CarSetup:\n",
        "    def __init__(self, brakes, gearBox, rearWing, frontWing, suspension, engine):\n",
        "        self.brakes = brakes\n",
        "        self.gearBox = gearBox\n",
        "        self.rearWing = rearWing\n",
        "        self.frontWing = frontWing\n",
        "        self.suspension = suspension\n",
        "        self.engine = engine\n",
        "\n",
        "    def add_contributions(self, current_contributions, current_option, current_option_name, options_dict):\n",
        "        current_option_values = options_dict[current_option]\n",
        "        current_contributions[\"Speed\"] += current_option_values[0]\n",
        "        current_contributions[\"Cornering\"] += current_option_values[1]\n",
        "        current_contributions[\"Power Unit\"] += current_option_values[2]\n",
        "        current_contributions[\"Reliability\"] += current_option_values[3]\n",
        "        current_contributions[\"Average Pit Stop Time\"] += current_option_values[4]\n",
        "        return current_contributions\n",
        "\n",
        "    def calculate_contributions(self):\n",
        "        contributions = {\n",
        "            \"Speed\": 0,\n",
        "            \"Cornering\": 0,\n",
        "            \"Power Unit\": 0,\n",
        "            \"Reliability\": 0,\n",
        "            \"Average Pit Stop Time\": 0\n",
        "        }\n",
        "\n",
        "        brakes_contributions = {\n",
        "            \"Wildcore\": (36, 23, 33, 22, 0.59),\n",
        "            \"Suspense\": (20, 32, 23, 21, 0.37),\n",
        "            \"The Warden\": (26, 28, 27, 25, 0.43),\n",
        "            \"Onyx\": (26, 23, 25, 50, 0.49),\n",
        "            \"Axiom\": (14, 34, 18, 15, 0.67),\n",
        "            \"Crisis SL\": (27, 16, 18, 19, 0.51),\n",
        "            \"Essence\": (14, 13, 12, 25, 0.76),\n",
        "            \"Starter\": (1, 1, 1, 1, 1)\n",
        "        }\n",
        "\n",
        "        contributions = self.add_contributions(contributions, self.brakes, \"Brakes\", brakes_contributions)\n",
        "\n",
        "        gearBox_contributions = {\n",
        "            \"Voyage\": (23, 28, 22, 27, 0),\n",
        "            \"Vector\": (24, 38, 22, 36, 0.55),\n",
        "            \"Kick Shift\": (18, 19, 29, 19, 0.45),\n",
        "            \"Verdict\": (33, 18, 20, 30, 0.63),\n",
        "            \"Spectrum\": (20, 25, 21, 23, 0.53),\n",
        "            \"Swiftcharge\": (14, 23, 22, 16, 0.71),\n",
        "            \"Switch-R-OD\": (12, 13, 11, 14, 0.47),\n",
        "            \"Starter\": (1, 1, 1, 1, 1)\n",
        "        }\n",
        "\n",
        "        contributions = self.add_contributions(contributions, self.gearBox, \"GearBox\", gearBox_contributions)\n",
        "\n",
        "        rearWing_contributions = {\n",
        "            \"Typhoon\": (50, 27, 26, 23, 0.53),\n",
        "            \"Transcendence\": (24, 22, 36, 37, 0.53),\n",
        "            \"Freeflare\": (21, 33, 20, 22, 0.37),\n",
        "            \"The Patron\": (23, 21, 19, 37, 0.61),\n",
        "            \"The Wasp\": (16, 24, 23, 14, 0.69),\n",
        "            \"The Matador\": (19, 16, 18, 17, 0.72),\n",
        "            \"Phantom-X\": (26, 15, 12, 11, 0.76),\n",
        "            \"Starter\": (1, 1, 1, 1, 1)\n",
        "        }\n",
        "\n",
        "        contributions = self.add_contributions(contributions, self.rearWing, \"RearWing\", rearWing_contributions)\n",
        "\n",
        "        frontWing_contributions = {\n",
        "            \"Virtue\": (23, 50, 27, 24, 0.49),\n",
        "            \"Thunderclap\": (35, 23, 21, 33, 0.55),\n",
        "            \"Trailblazer\": (21, 23, 42, 20, 0.57),\n",
        "            \"Zeno\": (25, 23, 22, 26, 0.53),\n",
        "            \"The Vagabond\": (31, 20, 23, 21, 0.35),\n",
        "            \"Feral Punch\": (13, 15, 22, 21, 0.73),\n",
        "            \"The Scout\": (13, 27, 15, 14, 0.73),\n",
        "            \"Starter\": (1, 1, 1, 1, 1)\n",
        "        }\n",
        "\n",
        "        contributions = self.add_contributions(contributions, self.frontWing, \"Front Wing\", frontWing_contributions)\n",
        "\n",
        "        suspension_contributions = {\n",
        "            \"Sigma\": (32, 28, 30, 29, 0.39),\n",
        "            \"Presence\": (23, 26, 24, 22, 0.2),\n",
        "            \"Horizon\": (22, 36, 24, 37, 0.53),\n",
        "            \"Radiance\": (25, 17, 26, 19, 0.65),\n",
        "            \"Icon V3\": (17, 13, 16, 23, 0.54),\n",
        "            \"Rodeo\": (23, 22, 15, 14, 0.69),\n",
        "            \"The Equator\": (20, 19, 18, 21, 0.61),\n",
        "            \"Starter\": (1, 1, 1, 1, 1)\n",
        "        }\n",
        "\n",
        "        contributions = self.add_contributions(contributions, self.suspension, \"Suspension\", suspension_contributions)\n",
        "\n",
        "        engine_contributions = {\n",
        "            \"Cloudroar\": (26, 24, 50, 27, 0.55),\n",
        "            \"Avalanche\": (34, 22, 25, 21, 0.35),\n",
        "            \"The Rover\": (27, 25, 28, 24, 0.53),\n",
        "            \"Twinburst\": (16, 29, 18, 17, 0.51),\n",
        "            \"Enigma\": (16, 13, 23, 25, 0.69),\n",
        "            \"Nova\": (31, 13, 15, 16, 0.71),\n",
        "            \"Brute Force\": (21, 19, 36, 18, 0.63),\n",
        "            \"Starter\": (1, 1, 1, 1, 1)\n",
        "        }\n",
        "\n",
        "        contributions = self.add_contributions(contributions, self.engine, \"Engine\", engine_contributions)\n",
        "\n",
        "        return contributions\n",
        "\n",
        "    brakes_options = [\"Wildcore\", \"Suspense\", \"The Warden\", \"Onyx\", \"Axiom\", \"Crisis SL\", \"Essence\", \"Starter\"]\n",
        "    gearbox_options = [\"Voyage\", \"Vector\", \"Kick Shift\", \"Verdict\", \"Spectrum\", \"Swiftcharge\", \"Switch-R-OD\", \"Starter\"]\n",
        "    rearWing_options = [\"Typhoon\", \"Transcendence\", \"Freeflare\", \"The Patron\", \"The Wasp\", \"The Matador\", \"Phantom-X\", \"Starter\"]\n",
        "    frontWing_options = [\"Virtue\", \"Thunderclap\", \"Trailblazer\", \"Zeno\", \"The Vagabond\", \"Feral Punch\", \"The Scout\", \"Starter\"]\n",
        "    suspension_options = [\"Sigma\", \"Presence\", \"Horizon\", \"Radiance\", \"Icon V3\", \"Rodeo\", \"The Equator\", \"Starter\"]\n",
        "    engine_options = [\"Cloudroar\", \"Avalanche\", \"The Rover\", \"Twinburst\", \"Enigma\", \"Nova\", \"Brute Force\", \"Starter\"]\n",
        "\n",
        "from itertools import product\n",
        "\n",
        "# Crie uma instância da classe CarSetup\n",
        "car_setup = CarSetup(\"Wildcore\", \"Voyage\", \"Typhoon\", \"Virtue\", \"Sigma\", \"Cloudroar\")\n",
        "\n",
        "# Obtenha as opções disponíveis para cada componente do carro\n",
        "brakes_options = CarSetup.brakes_options\n",
        "gearbox_options = CarSetup.gearbox_options\n",
        "rearWing_options = CarSetup.rearWing_options\n",
        "frontWing_options = CarSetup.frontWing_options\n",
        "suspension_options = CarSetup.suspension_options\n",
        "engine_options = CarSetup.engine_options\n",
        "\n",
        "# Crie uma lista de todas as combinações possíveis\n",
        "all_combinations = list(product(brakes_options, gearbox_options, rearWing_options, frontWing_options, suspension_options, engine_options))\n",
        "\n",
        "# Crie uma lista para armazenar os Team Scores\n",
        "team_scores = []\n",
        "\n",
        "# Calcule o Team Score para cada combinação\n",
        "for combination in all_combinations:\n",
        "    car_setup = CarSetup(*combination)\n",
        "    contributions = car_setup.calculate_contributions()\n",
        "\n",
        "    # Suponha que o Team Score seja a soma das contribuições\n",
        "    team_score = sum(contributions.values())\n",
        "    team_scores.append(team_score)\n",
        "\n",
        "# Crie um histograma dos Team Scores\n",
        "plt.hist(team_scores, bins=50, color='blue', alpha=0.7)\n",
        "plt.xlabel(\"Team Score\")\n",
        "plt.ylabel(\"Frequency\")\n",
        "plt.title(\"Histogram of Team Scores\")\n",
        "\n",
        "# Adicione um limite ao histograma\n",
        "# Suponha que você deseja limitar a pontuação da equipe em 500\n",
        "plt.axvline(x=500, color='red', linestyle='--', label=\"Score Limit (500)\")\n",
        "\n",
        "plt.legend()\n",
        "plt.show()\n",
        "\n"
      ]
    },
    {
      "cell_type": "markdown",
      "source": [
        "**Task 1**"
      ],
      "metadata": {
        "id": "Rfj6GhdIHidY"
      }
    },
    {
      "cell_type": "code",
      "source": [],
      "metadata": {
        "id": "D7bAjwbXL6nQ"
      },
      "execution_count": null,
      "outputs": []
    }
  ]
}