{
  "nbformat": 4,
  "nbformat_minor": 0,
  "metadata": {
    "colab": {
      "provenance": [],
      "mount_file_id": "1We-igJHDf9QHmyj4doc8CqD7vVi1-T41",
      "authorship_tag": "ABX9TyOrpoq6Id3qgE63uPozSAvt",
      "include_colab_link": true
    },
    "kernelspec": {
      "name": "python3",
      "display_name": "Python 3"
    },
    "language_info": {
      "name": "python"
    }
  },
  "cells": [
    {
      "cell_type": "markdown",
      "metadata": {
        "id": "view-in-github",
        "colab_type": "text"
      },
      "source": [
        "<a href=\"https://colab.research.google.com/github/yantvrs/Data_structure_2/blob/main/autocompleteWords.ipynb\" target=\"_parent\"><img src=\"https://colab.research.google.com/assets/colab-badge.svg\" alt=\"Open In Colab\"/></a>"
      ]
    },
    {
      "cell_type": "code",
      "execution_count": 10,
      "metadata": {
        "colab": {
          "base_uri": "https://localhost:8080/"
        },
        "id": "yaRQFuUIEtcM",
        "outputId": "1cdce327-a259-4894-83ab-9fe9a591525f"
      },
      "outputs": [
        {
          "output_type": "stream",
          "name": "stdout",
          "text": [
            "['inteligncia', 'artificial', 'e', 'seus', 'impactos', 'na', 'sociedade', 'a', 'inteligncia', 'artificial', 'ia', 'uma', 'rea', 'da', 'cincia', 'da', 'computao', 'que', 'busca', 'criar', 'sistemas', 'capazes', 'de', 'realizar', 'tarefas', 'que', 'quando', 'feitas', 'por', 'seres', 'humanos', 'requerem', 'inteligncia', 'essa', 'tecnologia', 'tem', 'avanado', 'rapidamente', 'nas', 'ltimas', 'dcadas', 'e', 'est', 'transformando', 'diversos', 'setores', 'da', 'sociedade', 'desde', 'a', 'indstria', 'at', 'a', 'medicina', 'no', 'entanto', 'esses', 'avanos', 'tambm', 'levantam', 'questes', 'importantes', 'sobre', 'seus', 'impactos', 'na', 'sociedade', 'um', 'dos', 'principais', 'impactos', 'da', 'ia', 'a', 'automao', 'de', 'tarefas', 'mquinas', 'inteligentes', 'podem', 'realizar', 'trabalhos', 'que', 'antes', 'eram', 'feitos', 'por', 'humanos', 'o', 'que', 'pode', 'levar', 'a', 'mudanas', 'significativas', 'no', 'mercado', 'de', 'trabalho', 'profisses', 'que', 'envolvem', 'tarefas', 'repetitivas', 'e', 'previsveis', 'esto', 'em', 'risco', 'de', 'serem', 'substitudas', 'por', 'sistemas', 'de', 'ia', 'o', 'que', 'pode', 'resultar', 'em', 'desemprego', 'e', 'na', 'necessidade', 'de', 'requalificao', 'da', 'fora', 'de', 'trabalho', 'alm', 'disso', 'a', 'ia', 'tambm', 'levanta', 'questes', 'ticas', 'como', 'os', 'sistemas', 'de', 'ia', 'aprendem', 'com', 'dados', 'eles', 'podem', 'herdar', 'preconceitos', 'e', 'vieses', 'presentes', 'nos', 'dados', 'de', 'treinamento', 'isso', 'pode', 'resultar', 'em', 'discriminao', 'e', 'decises', 'injustas', 'em', 'reas', 'como', 'recrutamento', 'crdito', 'e', 'justia', 'criminal', 'portanto', 'essencial', 'garantir', 'que', 'os', 'algoritmos', 'sejam', 'treinados', 'com', 'dados', 'imparciais', 'e', 'que', 'haja', 'superviso', 'humana', 'no', 'processo', 'a', 'privacidade', 'tambm', 'uma', 'preocupao', 'quando', 'se', 'trata', 'de', 'ia', 'os', 'sistemas', 'de', 'ia', 'podem', 'coletar', 'e', 'analisar', 'grandes', 'quantidades', 'de', 'dados', 'pessoais', 'o', 'que', 'levanta', 'preocupaes', 'sobre', 'a', 'proteo', 'da', 'privacidade', 'das', 'pessoas', 'importante', 'estabelecer', 'regulamentaes', 'rigorosas', 'para', 'garantir', 'que', 'os', 'dados', 'sejam', 'usados', 'de', 'maneira', 'tica', 'e', 'que', 'a', 'privacidade', 'seja', 'preservada', 'apesar', 'desses', 'desafios', 'a', 'ia', 'tambm', 'oferece', 'muitos', 'benefcios', 'para', 'a', 'sociedade', 'ela', 'pode', 'melhorar', 'a', 'eficincia', 'de', 'processos', 'ajudar', 'na', 'tomada', 'de', 'decises', 'mais', 'informadas', 'na', 'medicina', 'e', 'na', 'pesquisa', 'e', 'at', 'mesmo', 'auxiliar', 'em', 'tarefas', 'de', 'segurana', 'como', 'deteco', 'de', 'fraudes', 'e', 'preveno', 'de', 'crimes', 'em', 'resumo', 'a', 'inteligncia', 'artificial', 'uma', 'tecnologia', 'poderosa', 'que', 'est', 'transformando', 'a', 'sociedade', 'de', 'vrias', 'maneiras', 'fundamental', 'que', 'exploremos', 'seu', 'potencial', 'de', 'forma', 'tica', 'e', 'responsvel', 'abordando', 'questes', 'como', 'automao', 'vis', 'e', 'privacidade', 'para', 'garantir', 'que', 'a', 'ia', 'beneficie', 'a', 'sociedade', 'como', 'um', 'todo']\n"
          ]
        }
      ],
      "source": [
        "import re\n",
        "\n",
        "def RemoveSpecialCaracters(text):\n",
        "  text_without_specials = re.sub(r'[^A-Za-z0-9\\s]', '', text)\n",
        "  return text_without_specials\n",
        "\n",
        "def RemoveStopWords(text, removeWords):\n",
        "  words = text.split()\n",
        "  filteredWords = [word for word in words if word not in removeWords]\n",
        "  return filteredWords\n",
        "\n",
        "corpus = \"\"\"Inteligência Artificial e Seus Impactos na Sociedade\n",
        "\n",
        "A Inteligência Artificial (IA) é uma área da ciência da computação que busca criar sistemas capazes de realizar tarefas que, quando feitas por seres humanos, requerem inteligência. Essa tecnologia tem avançado rapidamente nas últimas décadas e está transformando diversos setores da sociedade, desde a indústria até a medicina. No entanto, esses avanços também levantam questões importantes sobre seus impactos na sociedade.\n",
        "\n",
        "Um dos principais impactos da IA é a automação de tarefas. Máquinas inteligentes podem realizar trabalhos que antes eram feitos por humanos, o que pode levar a mudanças significativas no mercado de trabalho. Profissões que envolvem tarefas repetitivas e previsíveis estão em risco de serem substituídas por sistemas de IA, o que pode resultar em desemprego e na necessidade de requalificação da força de trabalho.\n",
        "\n",
        "Além disso, a IA também levanta questões éticas. Como os sistemas de IA aprendem com dados, eles podem herdar preconceitos e vieses presentes nos dados de treinamento. Isso pode resultar em discriminação e decisões injustas em áreas como recrutamento, crédito e justiça criminal. Portanto, é essencial garantir que os algoritmos sejam treinados com dados imparciais e que haja supervisão humana no processo.\n",
        "\n",
        "A privacidade também é uma preocupação quando se trata de IA. Os sistemas de IA podem coletar e analisar grandes quantidades de dados pessoais, o que levanta preocupações sobre a proteção da privacidade das pessoas. É importante estabelecer regulamentações rigorosas para garantir que os dados sejam usados de maneira ética e que a privacidade seja preservada.\n",
        "\n",
        "Apesar desses desafios, a IA também oferece muitos benefícios para a sociedade. Ela pode melhorar a eficiência de processos, ajudar na tomada de decisões mais informadas na medicina e na pesquisa, e até mesmo auxiliar em tarefas de segurança, como detecção de fraudes e prevenção de crimes.\n",
        "\n",
        "Em resumo, a Inteligência Artificial é uma tecnologia poderosa que está transformando a sociedade de várias maneiras. É fundamental que exploremos seu potencial de forma ética e responsável, abordando questões como automação, viés e privacidade, para garantir que a IA beneficie a sociedade como um todo.\"\"\"\n",
        "\n",
        "corpus = RemoveSpecialCaracters(corpus.lower())\n",
        "\n",
        "removeWords = [\"é\", \"e\", \"um\", \"uma\", \"em\", \"da\", \"que\", \"ou\", \"mas\", \"a\", \"o\"]\n",
        "\n",
        "\n",
        "print(corpus)\n",
        "\n",
        "\n"
      ]
    },
    {
      "cell_type": "code",
      "source": [
        "def remover_palavras_especificas(texto, palavras_a_remover):\n",
        "    # Divide o texto em palavras\n",
        "    palavras = texto.split()\n",
        "\n",
        "    # Filtra as palavras mantendo apenas aquelas que não estão na lista de palavras a remover\n",
        "    palavras_filtradas = [palavra for palavra in palavras if palavra not in palavras_a_remover]\n",
        "\n",
        "    # Reconstitui o texto a partir das palavras filtradas\n",
        "    texto_limpo = ' '.join(palavras_filtradas)\n",
        "\n",
        "    return texto_limpo\n",
        "\n",
        "# Exemplo de uso\n",
        "texto_original = \"Este é um exemplo de texto. Vamos remover algumas palavras.\"\n",
        "palavras_a_remover = [\"é\", \"um\", \"algumas\"]\n",
        "\n",
        "texto_limpo = remover_palavras_especificas(texto_original, palavras_a_remover)\n",
        "\n",
        "print(\"Texto Original:\")\n",
        "print(texto_original)\n",
        "\n",
        "print(\"\\nTexto Limpo:\")\n",
        "print(texto_limpo)\n"
      ],
      "metadata": {
        "colab": {
          "base_uri": "https://localhost:8080/"
        },
        "id": "46rt53E8U-OQ",
        "outputId": "d987b512-0141-414c-d9ab-329184bf2b36"
      },
      "execution_count": 11,
      "outputs": [
        {
          "output_type": "stream",
          "name": "stdout",
          "text": [
            "Texto Original:\n",
            "Este é um exemplo de texto. Vamos remover algumas palavras.\n",
            "\n",
            "Texto Limpo:\n",
            "Este exemplo de texto. Vamos remover palavras.\n"
          ]
        }
      ]
    }
  ]
}