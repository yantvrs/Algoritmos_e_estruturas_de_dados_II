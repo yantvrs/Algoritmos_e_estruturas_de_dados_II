{
  "cells": [
    {
      "cell_type": "markdown",
      "metadata": {
        "id": "view-in-github",
        "colab_type": "text"
      },
      "source": [
        "<a href=\"https://colab.research.google.com/github/yantvrs/Data_structure_2/blob/main/ProjetoFinal/codes/Projeto_Final.ipynb\" target=\"_parent\"><img src=\"https://colab.research.google.com/assets/colab-badge.svg\" alt=\"Open In Colab\"/></a>"
      ]
    },
    {
      "cell_type": "code",
      "execution_count": null,
      "metadata": {
        "colab": {
          "base_uri": "https://localhost:8080/"
        },
        "id": "RxnbJJjXPagJ",
        "outputId": "355fa43a-f15d-4340-9f63-8c3ce32e2fac"
      },
      "outputs": [
        {
          "name": "stdout",
          "output_type": "stream",
          "text": [
            "Collecting osmnx\n",
            "  Downloading osmnx-1.8.0-py3-none-any.whl (102 kB)\n",
            "\u001b[?25l     \u001b[90m━━━━━━━━━━━━━━━━━━━━━━━━━━━━━━━━━━━━━━━━\u001b[0m \u001b[32m0.0/102.9 kB\u001b[0m \u001b[31m?\u001b[0m eta \u001b[36m-:--:--\u001b[0m\r\u001b[2K     \u001b[91m━━━━━━━━━━━━━━━\u001b[0m\u001b[91m╸\u001b[0m\u001b[90m━━━━━━━━━━━━━━━━━━━━━━━━\u001b[0m \u001b[32m41.0/102.9 kB\u001b[0m \u001b[31m1.1 MB/s\u001b[0m eta \u001b[36m0:00:01\u001b[0m\r\u001b[2K     \u001b[90m━━━━━━━━━━━━━━━━━━━━━━━━━━━━━━━━━━━━━━━━\u001b[0m \u001b[32m102.9/102.9 kB\u001b[0m \u001b[31m1.5 MB/s\u001b[0m eta \u001b[36m0:00:00\u001b[0m\n",
            "\u001b[?25hRequirement already satisfied: geopandas>=0.12 in /usr/local/lib/python3.10/dist-packages (from osmnx) (0.13.2)\n",
            "Requirement already satisfied: networkx>=2.5 in /usr/local/lib/python3.10/dist-packages (from osmnx) (3.2.1)\n",
            "Requirement already satisfied: numpy>=1.20 in /usr/local/lib/python3.10/dist-packages (from osmnx) (1.23.5)\n",
            "Requirement already satisfied: pandas>=1.1 in /usr/local/lib/python3.10/dist-packages (from osmnx) (1.5.3)\n",
            "Requirement already satisfied: requests>=2.27 in /usr/local/lib/python3.10/dist-packages (from osmnx) (2.31.0)\n",
            "Requirement already satisfied: shapely>=2.0 in /usr/local/lib/python3.10/dist-packages (from osmnx) (2.0.2)\n",
            "Requirement already satisfied: fiona>=1.8.19 in /usr/local/lib/python3.10/dist-packages (from geopandas>=0.12->osmnx) (1.9.5)\n",
            "Requirement already satisfied: packaging in /usr/local/lib/python3.10/dist-packages (from geopandas>=0.12->osmnx) (23.2)\n",
            "Requirement already satisfied: pyproj>=3.0.1 in /usr/local/lib/python3.10/dist-packages (from geopandas>=0.12->osmnx) (3.6.1)\n",
            "Requirement already satisfied: python-dateutil>=2.8.1 in /usr/local/lib/python3.10/dist-packages (from pandas>=1.1->osmnx) (2.8.2)\n",
            "Requirement already satisfied: pytz>=2020.1 in /usr/local/lib/python3.10/dist-packages (from pandas>=1.1->osmnx) (2023.3.post1)\n",
            "Requirement already satisfied: charset-normalizer<4,>=2 in /usr/local/lib/python3.10/dist-packages (from requests>=2.27->osmnx) (3.3.2)\n",
            "Requirement already satisfied: idna<4,>=2.5 in /usr/local/lib/python3.10/dist-packages (from requests>=2.27->osmnx) (3.6)\n",
            "Requirement already satisfied: urllib3<3,>=1.21.1 in /usr/local/lib/python3.10/dist-packages (from requests>=2.27->osmnx) (2.0.7)\n",
            "Requirement already satisfied: certifi>=2017.4.17 in /usr/local/lib/python3.10/dist-packages (from requests>=2.27->osmnx) (2023.11.17)\n",
            "Requirement already satisfied: attrs>=19.2.0 in /usr/local/lib/python3.10/dist-packages (from fiona>=1.8.19->geopandas>=0.12->osmnx) (23.1.0)\n",
            "Requirement already satisfied: click~=8.0 in /usr/local/lib/python3.10/dist-packages (from fiona>=1.8.19->geopandas>=0.12->osmnx) (8.1.7)\n",
            "Requirement already satisfied: click-plugins>=1.0 in /usr/local/lib/python3.10/dist-packages (from fiona>=1.8.19->geopandas>=0.12->osmnx) (1.1.1)\n",
            "Requirement already satisfied: cligj>=0.5 in /usr/local/lib/python3.10/dist-packages (from fiona>=1.8.19->geopandas>=0.12->osmnx) (0.7.2)\n",
            "Requirement already satisfied: six in /usr/local/lib/python3.10/dist-packages (from fiona>=1.8.19->geopandas>=0.12->osmnx) (1.16.0)\n",
            "Requirement already satisfied: setuptools in /usr/local/lib/python3.10/dist-packages (from fiona>=1.8.19->geopandas>=0.12->osmnx) (67.7.2)\n",
            "Installing collected packages: osmnx\n",
            "Successfully installed osmnx-1.8.0\n"
          ]
        }
      ],
      "source": [
        "!pip install osmnx"
      ]
    },
    {
      "cell_type": "code",
      "execution_count": null,
      "metadata": {
        "colab": {
          "base_uri": "https://localhost:8080/",
          "height": 36
        },
        "id": "lHQhTue6PT8k",
        "outputId": "e8775cfe-8f48-49fc-bd0d-e89f61aa6ac5"
      },
      "outputs": [
        {
          "data": {
            "application/vnd.google.colaboratory.intrinsic+json": {
              "type": "string"
            },
            "text/plain": [
              "'1.8.0'"
            ]
          },
          "execution_count": 2,
          "metadata": {},
          "output_type": "execute_result"
        }
      ],
      "source": [
        "import networkx as nx\n",
        "import pandas as pd\n",
        "import osmnx as ox\n",
        "\n",
        "ox.settings.log_console = True\n",
        "ox.__version__"
      ]
    },
    {
      "cell_type": "code",
      "execution_count": null,
      "metadata": {
        "id": "nN-vjwqjdDnZ"
      },
      "outputs": [],
      "source": [
        "def get_cycleways_graph(query):\n",
        "    # Configuração das tags úteis para a biblioteca OSMnx\n",
        "    useful_tags = ox.settings.useful_tags_way + ['cycleway'] + ['bicycle']\n",
        "    ox.utils.config(use_cache=True, log_console=True, useful_tags_way=useful_tags)\n",
        "\n",
        "    # Baixa o grafo da rede de ciclovias\n",
        "    G = ox.graph_from_place(query=query, network_type='bike', simplify=False, retain_all=True)\n",
        "\n",
        "    # Lista para armazenar as arestas que não são ciclovias\n",
        "    non_cyc = []\n",
        "\n",
        "    # Itera sobre as arestas do grafo\n",
        "    for u, v, k, d in G.edges(keys=True, data=True):\n",
        "        bi = False\n",
        "        if \"bicycle\" in d and d['bicycle'] == 'designated':\n",
        "            bi = True\n",
        "\n",
        "        if d['highway'] != 'cycleway' and 'cycleway' not in d and not bi:\n",
        "            non_cyc.append((u, v, k))\n",
        "\n",
        "    # Remove as arestas que não são ciclovias\n",
        "    G.remove_edges_from(non_cyc)\n",
        "\n",
        "    # Remove nós isolados do grafo\n",
        "    G = ox.utils_graph.remove_isolated_nodes(G)\n",
        "\n",
        "    # Remove os nós que não são utilizados nas arestas\n",
        "    unused_nodes = [node for node, degree in dict(G.degree()).items() if degree == 0]\n",
        "    G.remove_nodes_from(unused_nodes)\n",
        "\n",
        "    # Simplifica o grafo\n",
        "    G = ox.simplify_graph(G)\n",
        "\n",
        "    return G"
      ]
    },
    {
      "cell_type": "code",
      "execution_count": null,
      "metadata": {
        "colab": {
          "background_save": true,
          "base_uri": "https://localhost:8080/"
        },
        "id": "FqMuP9hszKZ3",
        "outputId": "8d390003-fbdf-44c6-8c5e-6ba7c53dee35"
      },
      "outputs": [
        {
          "name": "stderr",
          "output_type": "stream",
          "text": [
            "<ipython-input-3-06547187d4d1>:4: UserWarning: The `utils.config` function is deprecated and will be removed in a future release. Instead, use the `settings` module directly to configure a global setting's value. For example, `ox.settings.log_console=True`.\n",
            "  ox.utils.config(use_cache=True, log_console=True, useful_tags_way=useful_tags)\n"
          ]
        }
      ],
      "source": [
        "place1 = \"São Paulo, Brazil\"\n",
        "G1 = get_cycleways_graph(place1)"
      ]
    },
    {
      "cell_type": "code",
      "execution_count": null,
      "metadata": {
        "colab": {
          "background_save": true
        },
        "id": "qfgH2Ei47wtn",
        "outputId": "2340ac77-0ed3-4bac-f441-6b03a3c65569"
      },
      "outputs": [
        {
          "name": "stderr",
          "output_type": "stream",
          "text": [
            "<ipython-input-3-06547187d4d1>:4: UserWarning: The `utils.config` function is deprecated and will be removed in a future release. Instead, use the `settings` module directly to configure a global setting's value. For example, `ox.settings.log_console=True`.\n",
            "  ox.utils.config(use_cache=True, log_console=True, useful_tags_way=useful_tags)\n"
          ]
        }
      ],
      "source": [
        "place2 = \"Amsterdam, Netherlands\"\n",
        "G2 = get_cycleways_graph(place2)"
      ]
    },
    {
      "cell_type": "code",
      "execution_count": null,
      "metadata": {
        "colab": {
          "background_save": true
        },
        "id": "QouhYf2B71_f",
        "outputId": "d79be120-479c-4a4d-a5dd-f689f76e7491"
      },
      "outputs": [
        {
          "name": "stderr",
          "output_type": "stream",
          "text": [
            "<ipython-input-3-06547187d4d1>:4: UserWarning: The `utils.config` function is deprecated and will be removed in a future release. Instead, use the `settings` module directly to configure a global setting's value. For example, `ox.settings.log_console=True`.\n",
            "  ox.utils.config(use_cache=True, log_console=True, useful_tags_way=useful_tags)\n"
          ]
        }
      ],
      "source": [
        "place3 = \"Berlin, Germany\"\n",
        "G3 = get_cycleways_graph(place3)"
      ]
    },
    {
      "cell_type": "markdown",
      "metadata": {
        "id": "4F1JIC7hnSEd"
      },
      "source": [
        "#Análise Comparativa"
      ]
    },
    {
      "cell_type": "markdown",
      "metadata": {
        "id": "PvbGNA0O70hb"
      },
      "source": [
        "##Density Based Stats"
      ]
    },
    {
      "cell_type": "code",
      "execution_count": null,
      "metadata": {
        "colab": {
          "background_save": true
        },
        "id": "tEXAoKco7TpP",
        "outputId": "05bc150a-d3b5-4f3a-c323-be4657725924"
      },
      "outputs": [
        {
          "data": {
            "text/plain": [
              "n                                                                            1509\n",
              "m                                                                            1881\n",
              "k_avg                                                                    2.493042\n",
              "edge_length_total                                                      726266.943\n",
              "edge_length_avg                                                        386.106828\n",
              "streets_per_node_avg                                                     3.056329\n",
              "streets_per_node_counts         {0: 0, 1: 136, 2: 73, 3: 943, 4: 287, 5: 68, 6...\n",
              "streets_per_node_proportions    {0: 0.0, 1: 0.09012591119946985, 2: 0.04837640...\n",
              "intersection_count                                                           1373\n",
              "street_length_total                                                    441314.035\n",
              "street_segment_count                                                         1194\n",
              "street_length_avg                                                      369.609745\n",
              "circuity_avg                                                             1.085556\n",
              "self_loop_proportion                                                     0.005025\n",
              "node_density_km                                                          0.991115\n",
              "intersection_density_km                                                   0.90179\n",
              "edge_density_km                                                        477.014106\n",
              "street_density_km                                                       289.85626\n",
              "dtype: object"
            ]
          },
          "execution_count": 7,
          "metadata": {},
          "output_type": "execute_result"
        }
      ],
      "source": [
        "#>>>>>>>>>>>>>>>>>>>>>> SÃO PAULO <<<<<<<<<<<<<<<<<<<<<<<<\n",
        "gdf = ox.geocode_to_gdf(place1)\n",
        "areaSP = ox.project_gdf(gdf).unary_union.area\n",
        "stats = ox.basic_stats(G1, area=areaSP)\n",
        "pd.Series(stats)"
      ]
    },
    {
      "cell_type": "code",
      "execution_count": null,
      "metadata": {
        "colab": {
          "background_save": true
        },
        "id": "MveIIv3879Rb",
        "outputId": "cda74a14-e69a-4439-aeac-fc0eb12b0365"
      },
      "outputs": [
        {
          "data": {
            "text/plain": [
              "n                                                                            6307\n",
              "m                                                                           11454\n",
              "k_avg                                                                    3.632155\n",
              "edge_length_total                                                     1406328.214\n",
              "edge_length_avg                                                        122.780532\n",
              "streets_per_node_avg                                                     3.152846\n",
              "streets_per_node_counts         {0: 0, 1: 167, 2: 544, 3: 3923, 4: 1539, 5: 10...\n",
              "streets_per_node_proportions    {0: 0.0, 1: 0.026478515934675758, 2: 0.0862533...\n",
              "intersection_count                                                           6140\n",
              "street_length_total                                                    871651.738\n",
              "street_segment_count                                                         7240\n",
              "street_length_avg                                                      120.393886\n",
              "circuity_avg                                                             1.044301\n",
              "self_loop_proportion                                                     0.000691\n",
              "node_density_km                                                         28.744173\n",
              "intersection_density_km                                                 27.983069\n",
              "edge_density_km                                                       6409.345297\n",
              "street_density_km                                                     3972.555561\n",
              "dtype: object"
            ]
          },
          "execution_count": 8,
          "metadata": {},
          "output_type": "execute_result"
        }
      ],
      "source": [
        "#>>>>>>>>>>>>>>>>>>>>>> AMSTERDAM <<<<<<<<<<<<<<<<<<<<<<<\n",
        "gdf = ox.geocode_to_gdf(place2)\n",
        "areaAMS = ox.project_gdf(gdf).unary_union.area\n",
        "stats = ox.basic_stats(G2, area=areaAMS)\n",
        "pd.Series(stats)"
      ]
    },
    {
      "cell_type": "code",
      "execution_count": null,
      "metadata": {
        "colab": {
          "background_save": true
        },
        "id": "BikyLyPJ797z",
        "outputId": "0aafd9bf-f076-4ed6-9020-b7a37a914698"
      },
      "outputs": [
        {
          "data": {
            "text/plain": [
              "n                                                                            6437\n",
              "m                                                                            8087\n",
              "k_avg                                                                    2.512661\n",
              "edge_length_total                                                     1650591.237\n",
              "edge_length_avg                                                        204.104271\n",
              "streets_per_node_avg                                                      2.93149\n",
              "streets_per_node_counts         {0: 0, 1: 804, 2: 905, 3: 2955, 4: 1511, 5: 23...\n",
              "streets_per_node_proportions    {0: 0.0, 1: 0.12490290508000622, 2: 0.14059344...\n",
              "intersection_count                                                           5633\n",
              "street_length_total                                                   1063514.305\n",
              "street_segment_count                                                         5555\n",
              "street_length_avg                                                       191.45172\n",
              "circuity_avg                                                             1.054404\n",
              "self_loop_proportion                                                      0.00126\n",
              "node_density_km                                                          7.226978\n",
              "intersection_density_km                                                  6.324308\n",
              "edge_density_km                                                       1853.159436\n",
              "street_density_km                                                     1194.033705\n",
              "dtype: object"
            ]
          },
          "execution_count": 9,
          "metadata": {},
          "output_type": "execute_result"
        }
      ],
      "source": [
        "#>>>>>>>>>>>>>>>>>>>>>> BERLIN <<<<<<<<<<<<<<<<<<<<<<\n",
        "gdf = ox.geocode_to_gdf(place3)\n",
        "areaBER = ox.project_gdf(gdf).unary_union.area\n",
        "stats = ox.basic_stats(G3, area=areaBER)\n",
        "pd.Series(stats)"
      ]
    },
    {
      "cell_type": "markdown",
      "metadata": {
        "id": "7VIeO2tN5JVi"
      },
      "source": [
        "## Outras métricas"
      ]
    },
    {
      "cell_type": "code",
      "execution_count": null,
      "metadata": {
        "colab": {
          "background_save": true
        },
        "id": "lcqQFQG_NM8e",
        "outputId": "78ad06e2-e41a-4502-dfe0-b7b640d45900"
      },
      "outputs": [
        {
          "name": "stdout",
          "output_type": "stream",
          "text": [
            "Metros de ciclovias por habitante em São Paulo: 0.0385385200473835\n",
            "Metros de ciclovias por habitante em Amsterdã: 0.5435827171411101\n",
            "Metros de ciclovias por habitante em Berlim: 0.2865124894596613\n"
          ]
        }
      ],
      "source": [
        "#CICLOVIA POR HABITANTE\n",
        "\n",
        "populacaoSP = 11451245\n",
        "populacaoAMS = 1603531\n",
        "populacaoBER = 3711930\n",
        "\n",
        "#Armazenando o comprimento (em metros) de ciclovias [retirados da função stats]\n",
        "comprimento_ciclovias_SP = ox.stats.street_length_total(ox.utils_graph.get_undirected(G1))\n",
        "comprimento_ciclovias_AMS = ox.stats.street_length_total(ox.utils_graph.get_undirected(G2))\n",
        "comprimento_ciclovias_BER = ox.stats.street_length_total(ox.utils_graph.get_undirected(G3))\n",
        "\n",
        "\n",
        "ciclovias_por_habitanteSP = comprimento_ciclovias_SP / populacaoSP\n",
        "ciclovias_por_habitanteAMS = comprimento_ciclovias_AMS / populacaoAMS\n",
        "ciclovias_por_habitanteBER = comprimento_ciclovias_BER / populacaoBER\n",
        "\n",
        "print(f\"Metros de ciclovias por habitante em São Paulo: {ciclovias_por_habitanteSP}\")\n",
        "print(f\"Metros de ciclovias por habitante em Amsterdã: {ciclovias_por_habitanteAMS}\")\n",
        "print(f\"Metros de ciclovias por habitante em Berlim: {ciclovias_por_habitanteBER}\")\n",
        "\n"
      ]
    },
    {
      "cell_type": "code",
      "execution_count": null,
      "metadata": {
        "colab": {
          "background_save": true
        },
        "id": "NWzuIUhw0b4s",
        "outputId": "c103cad9-9f6b-440a-a1b3-b3e8a5326dc6"
      },
      "outputs": [
        {
          "name": "stdout",
          "output_type": "stream",
          "text": [
            "Densidade de ciclovias em São Paulo: 289.85625981309266 metros por quilômetro quadrado\n",
            "Densidade de ciclovias em Amesterdã: 3972.5555610337083 metros por quilômetro quadrado\n",
            "Densidade de ciclovias Berlim: 1194.033704511825 metros por quilômetro quadrado\n"
          ]
        }
      ],
      "source": [
        "# DENSIDADE DE CICLOVIAS\n",
        "\n",
        "# Calcula a densidade de ciclovias\n",
        "densidade_ciclovias_SP = comprimento_ciclovias_SP / areaSP * 1000000\n",
        "print(f\"Densidade de ciclovias em São Paulo: {densidade_ciclovias_SP} metros por quilômetro quadrado\")\n",
        "\n",
        "densidade_ciclovias_AMS = comprimento_ciclovias_AMS / areaAMS * 1000000\n",
        "print(f\"Densidade de ciclovias em Amesterdã: {densidade_ciclovias_AMS} metros por quilômetro quadrado\")\n",
        "\n",
        "densidade_ciclovias_BER = comprimento_ciclovias_BER / areaBER * 1000000\n",
        "print(f\"Densidade de ciclovias Berlim: {densidade_ciclovias_BER} metros por quilômetro quadrado\")"
      ]
    }
  ],
  "metadata": {
    "colab": {
      "provenance": [],
      "include_colab_link": true
    },
    "kernelspec": {
      "display_name": "Python 3",
      "name": "python3"
    },
    "language_info": {
      "name": "python"
    }
  },
  "nbformat": 4,
  "nbformat_minor": 0
}